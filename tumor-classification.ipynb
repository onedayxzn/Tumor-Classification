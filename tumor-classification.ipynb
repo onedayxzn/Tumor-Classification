{
 "cells": [
  {
   "cell_type": "code",
   "execution_count": 24,
   "metadata": {},
   "outputs": [],
   "source": [
    "import os\n",
    "import zipfile\n",
    "\n"
   ]
  },
  {
   "cell_type": "code",
   "execution_count": 25,
   "metadata": {},
   "outputs": [],
   "source": [
    "base_dir = 'Dataset/archive/brain_tumor_dataset'\n",
    "train_dir = os.path.join('Dataset/archive/brain_tumor_dataset', 'train')\n",
    "valid_dir = os.path.join('Dataset/archive/brain_tumor_dataset', 'val')\n"
   ]
  },
  {
   "cell_type": "code",
   "execution_count": 26,
   "metadata": {},
   "outputs": [],
   "source": [
    "no_dir = os.path.join(base_dir, 'no')\n",
    "yes_dir = os.path.join(base_dir, 'yes')"
   ]
  },
  {
   "cell_type": "code",
   "execution_count": 27,
   "metadata": {},
   "outputs": [],
   "source": [
    "no_train = os.path.join(train_dir, 'no')\n",
    "no_valid = os.path.join(valid_dir, 'no')\n",
    "\n",
    "yes_train = os.path.join(train_dir, 'yes')\n",
    "yes_valid = os.path.join(valid_dir, 'yes')"
   ]
  },
  {
   "cell_type": "code",
   "execution_count": 28,
   "metadata": {},
   "outputs": [
    {
     "name": "stdout",
     "output_type": "stream",
     "text": [
      "fail Dataset/archive/brain_tumor_dataset\\train\n",
      "fail Dataset/archive/brain_tumor_dataset\\val\n",
      "fail Dataset/archive/brain_tumor_dataset\\train\\no\n",
      "fail Dataset/archive/brain_tumor_dataset\\val\\no\n",
      "fail Dataset/archive/brain_tumor_dataset\\train\\yes\n",
      "fail Dataset/archive/brain_tumor_dataset\\val\\yes\n"
     ]
    }
   ],
   "source": [
    "list_directory = [train_dir,valid_dir,no_train,no_valid,yes_train,yes_valid]\n",
    "for f in list_directory:\n",
    "  if not os.path.exists(f):\n",
    "    os.mkdir(f)\n",
    "    print('success %s' %(f))\n",
    "  else:\n",
    "    print('fail %s' %(f))"
   ]
  },
  {
   "cell_type": "code",
   "execution_count": 29,
   "metadata": {},
   "outputs": [],
   "source": [
    "from sklearn.model_selection import train_test_split\n",
    "\n",
    "no_train_dir, no_val_dir = train_test_split(os.listdir(no_dir), test_size=0.4, train_size = 0.6)\n",
    "yes_train_dir, yes_val_dir = train_test_split(os.listdir(yes_dir), test_size=0.4, train_size = 0.6)\n"
   ]
  },
  {
   "cell_type": "code",
   "execution_count": 30,
   "metadata": {},
   "outputs": [],
   "source": [
    "import shutil\n",
    "for file in no_train_dir:\n",
    "  shutil.copy(os.path.join(no_dir, file), os.path.join(no_train, file))\n",
    "for file in yes_train_dir:\n",
    "  shutil.copy(os.path.join(yes_dir, file), os.path.join(yes_train, file))\n",
    "for file in no_val_dir:\n",
    "  shutil.copy(os.path.join(no_dir, file), os.path.join(no_valid, file))\n",
    "for file in yes_val_dir:\n",
    "  shutil.copy(os.path.join(yes_dir, file), os.path.join(yes_valid, file))"
   ]
  },
  {
   "cell_type": "code",
   "execution_count": 31,
   "metadata": {},
   "outputs": [],
   "source": [
    "from tensorflow.keras.preprocessing.image import ImageDataGenerator\n",
    "\n",
    "\n",
    "train_datagen = ImageDataGenerator(rescale = 1/255)\n",
    "validation_datagen = ImageDataGenerator(rescale = 1/255)"
   ]
  },
  {
   "cell_type": "code",
   "execution_count": 32,
   "metadata": {},
   "outputs": [
    {
     "name": "stdout",
     "output_type": "stream",
     "text": [
      "Found 252 images belonging to 2 classes.\n",
      "Found 244 images belonging to 2 classes.\n"
     ]
    }
   ],
   "source": [
    "train_generator = train_datagen.flow_from_directory(\n",
    "    'Dataset/archive/brain_tumor_dataset/train',\n",
    "    classes = ['no','yes'],\n",
    "    target_size=(150,150),\n",
    "    batch_size = 120,\n",
    "    class_mode='binary'\n",
    ")\n",
    "validation_generator = validation_datagen.flow_from_directory(\n",
    "    'Dataset/archive/brain_tumor_dataset/val',\n",
    "    classes = ['no','yes'],\n",
    "    target_size=(150,150),\n",
    "    batch_size=19,\n",
    "    class_mode='binary',\n",
    "    shuffle=False\n",
    ")"
   ]
  },
  {
   "cell_type": "code",
   "execution_count": 33,
   "metadata": {},
   "outputs": [],
   "source": [
    "import tensorflow as tf\n",
    "import numpy as np\n",
    "from itertools import cycle\n",
    "\n",
    "from sklearn import svm,datasets\n",
    "from sklearn.metrics import roc_curve,auc\n",
    "from sklearn.model_selection import train_test_split\n",
    "from sklearn.preprocessing import label_binarize\n",
    "from sklearn.multiclass import OneVsRestClassifier\n",
    "from scipy import interp\n",
    "from sklearn.metrics import roc_auc_score\n"
   ]
  },
  {
   "cell_type": "code",
   "execution_count": 34,
   "metadata": {},
   "outputs": [],
   "source": [
    "model = tf.keras.models.Sequential([\n",
    "    tf.keras.layers.Conv2D(64, (3,3), activation='relu', input_shape=(150, 150, 3)),\n",
    "    tf.keras.layers.MaxPool2D(2, 2),\n",
    "    tf.keras.layers.Conv2D(128, (3,3), activation='relu'),\n",
    "    tf.keras.layers.MaxPooling2D(2, 2),\n",
    "    tf.keras.layers.Conv2D(22, (3,3), activation='relu'),\n",
    "    tf.keras.layers.MaxPooling2D(2, 2),\n",
    "    tf.keras.layers.Conv2D(512, (3,3), activation='relu'),\n",
    "    tf.keras.layers.MaxPooling2D(2, 2),\n",
    "    tf.keras.layers.Flatten(),\n",
    "    tf.keras.layers.Dense(128, activation='relu'),\n",
    "    tf.keras.layers.Dense(1, activation='sigmoid'),\n",
    "])"
   ]
  },
  {
   "cell_type": "code",
   "execution_count": 35,
   "metadata": {},
   "outputs": [
    {
     "name": "stdout",
     "output_type": "stream",
     "text": [
      "Model: \"sequential_1\"\n",
      "_________________________________________________________________\n",
      " Layer (type)                Output Shape              Param #   \n",
      "=================================================================\n",
      " conv2d_5 (Conv2D)           (None, 148, 148, 64)      1792      \n",
      "                                                                 \n",
      " max_pooling2d_5 (MaxPooling  (None, 74, 74, 64)       0         \n",
      " 2D)                                                             \n",
      "                                                                 \n",
      " conv2d_6 (Conv2D)           (None, 72, 72, 128)       73856     \n",
      "                                                                 \n",
      " max_pooling2d_6 (MaxPooling  (None, 36, 36, 128)      0         \n",
      " 2D)                                                             \n",
      "                                                                 \n",
      " conv2d_7 (Conv2D)           (None, 34, 34, 22)        25366     \n",
      "                                                                 \n",
      " max_pooling2d_7 (MaxPooling  (None, 17, 17, 22)       0         \n",
      " 2D)                                                             \n",
      "                                                                 \n",
      " conv2d_8 (Conv2D)           (None, 15, 15, 512)       101888    \n",
      "                                                                 \n",
      " max_pooling2d_8 (MaxPooling  (None, 7, 7, 512)        0         \n",
      " 2D)                                                             \n",
      "                                                                 \n",
      " flatten_1 (Flatten)         (None, 25088)             0         \n",
      "                                                                 \n",
      " dense_2 (Dense)             (None, 128)               3211392   \n",
      "                                                                 \n",
      " dense_3 (Dense)             (None, 1)                 129       \n",
      "                                                                 \n",
      "=================================================================\n",
      "Total params: 3,414,423\n",
      "Trainable params: 3,414,423\n",
      "Non-trainable params: 0\n",
      "_________________________________________________________________\n"
     ]
    }
   ],
   "source": [
    "model.summary()"
   ]
  },
  {
   "cell_type": "code",
   "execution_count": 36,
   "metadata": {},
   "outputs": [],
   "source": [
    "model.compile(loss='binary_crossentropy',\n",
    "              optimizer=tf.optimizers.Adam(),\n",
    "              metrics=['accuracy'])"
   ]
  },
  {
   "cell_type": "code",
   "execution_count": 37,
   "metadata": {},
   "outputs": [
    {
     "name": "stdout",
     "output_type": "stream",
     "text": [
      "Epoch 1/25\n",
      "2/2 - 16s - loss: 0.7391 - accuracy: 0.3712 - val_loss: 0.6621 - val_accuracy: 0.9684 - 16s/epoch - 8s/step\n",
      "Epoch 2/25\n",
      "2/2 - 12s - loss: 0.7022 - accuracy: 0.4167 - val_loss: 0.6624 - val_accuracy: 0.9789 - 12s/epoch - 6s/step\n",
      "Epoch 3/25\n",
      "2/2 - 11s - loss: 0.6937 - accuracy: 0.4091 - val_loss: 0.6767 - val_accuracy: 0.7789 - 11s/epoch - 5s/step\n",
      "Epoch 4/25\n",
      "2/2 - 11s - loss: 0.6792 - accuracy: 0.8106 - val_loss: 0.6815 - val_accuracy: 0.5474 - 11s/epoch - 5s/step\n",
      "Epoch 5/25\n",
      "2/2 - 11s - loss: 0.6620 - accuracy: 0.6364 - val_loss: 0.6312 - val_accuracy: 0.6211 - 11s/epoch - 5s/step\n",
      "Epoch 6/25\n",
      "2/2 - 11s - loss: 0.6052 - accuracy: 0.8409 - val_loss: 0.8598 - val_accuracy: 0.3158 - 11s/epoch - 5s/step\n",
      "Epoch 7/25\n",
      "2/2 - 11s - loss: 0.5734 - accuracy: 0.7045 - val_loss: 0.2787 - val_accuracy: 0.9263 - 11s/epoch - 5s/step\n",
      "Epoch 8/25\n",
      "2/2 - 11s - loss: 0.6693 - accuracy: 0.5758 - val_loss: 0.8995 - val_accuracy: 0.4947 - 11s/epoch - 5s/step\n",
      "Epoch 9/25\n",
      "2/2 - 11s - loss: 0.5304 - accuracy: 0.7424 - val_loss: 1.3069 - val_accuracy: 0.2211 - 11s/epoch - 6s/step\n",
      "Epoch 10/25\n",
      "2/2 - 18s - loss: 0.6149 - accuracy: 0.6917 - val_loss: 1.0207 - val_accuracy: 0.3263 - 18s/epoch - 9s/step\n",
      "Epoch 11/25\n",
      "2/2 - 12s - loss: 0.5511 - accuracy: 0.7273 - val_loss: 0.6673 - val_accuracy: 0.5474 - 12s/epoch - 6s/step\n",
      "Epoch 12/25\n",
      "2/2 - 20s - loss: 0.5399 - accuracy: 0.7708 - val_loss: 0.4931 - val_accuracy: 0.7053 - 20s/epoch - 10s/step\n",
      "Epoch 13/25\n",
      "2/2 - 12s - loss: 0.5683 - accuracy: 0.8030 - val_loss: 0.4336 - val_accuracy: 0.7684 - 12s/epoch - 6s/step\n",
      "Epoch 14/25\n",
      "2/2 - 12s - loss: 0.5907 - accuracy: 0.7727 - val_loss: 0.4178 - val_accuracy: 0.7684 - 12s/epoch - 6s/step\n",
      "Epoch 15/25\n",
      "2/2 - 12s - loss: 0.5161 - accuracy: 0.7879 - val_loss: 0.4601 - val_accuracy: 0.7158 - 12s/epoch - 6s/step\n",
      "Epoch 16/25\n",
      "2/2 - 12s - loss: 0.4929 - accuracy: 0.8182 - val_loss: 0.5418 - val_accuracy: 0.6947 - 12s/epoch - 6s/step\n",
      "Epoch 17/25\n",
      "2/2 - 12s - loss: 0.4889 - accuracy: 0.7879 - val_loss: 0.7603 - val_accuracy: 0.5789 - 12s/epoch - 6s/step\n",
      "Epoch 18/25\n",
      "2/2 - 12s - loss: 0.4851 - accuracy: 0.8106 - val_loss: 0.8700 - val_accuracy: 0.5579 - 12s/epoch - 6s/step\n",
      "Epoch 19/25\n",
      "2/2 - 20s - loss: 0.4708 - accuracy: 0.8042 - val_loss: 0.8335 - val_accuracy: 0.5474 - 20s/epoch - 10s/step\n",
      "Epoch 20/25\n",
      "2/2 - 22s - loss: 0.4667 - accuracy: 0.7917 - val_loss: 0.6944 - val_accuracy: 0.6316 - 22s/epoch - 11s/step\n",
      "Epoch 21/25\n",
      "2/2 - 12s - loss: 0.4365 - accuracy: 0.8030 - val_loss: 0.5481 - val_accuracy: 0.6526 - 12s/epoch - 6s/step\n",
      "Epoch 22/25\n",
      "2/2 - 12s - loss: 0.4301 - accuracy: 0.7803 - val_loss: 0.4484 - val_accuracy: 0.6842 - 12s/epoch - 6s/step\n",
      "Epoch 23/25\n",
      "2/2 - 20s - loss: 0.4360 - accuracy: 0.7958 - val_loss: 0.5375 - val_accuracy: 0.6526 - 20s/epoch - 10s/step\n",
      "Epoch 24/25\n",
      "2/2 - 20s - loss: 0.4203 - accuracy: 0.8083 - val_loss: 0.6753 - val_accuracy: 0.6211 - 20s/epoch - 10s/step\n",
      "Epoch 25/25\n",
      "2/2 - 12s - loss: 0.3932 - accuracy: 0.8333 - val_loss: 0.7570 - val_accuracy: 0.5895 - 12s/epoch - 6s/step\n"
     ]
    },
    {
     "data": {
      "text/plain": [
       "<keras.callbacks.History at 0x1df072fb010>"
      ]
     },
     "execution_count": 37,
     "metadata": {},
     "output_type": "execute_result"
    }
   ],
   "source": [
    "model.fit(\n",
    "      train_generator,\n",
    "      steps_per_epoch = 2, \n",
    "      epochs = 25,\n",
    "      validation_data = validation_generator,\n",
    "      validation_steps = 5,\n",
    "      verbose = 2\n",
    ")"
   ]
  },
  {
   "cell_type": "code",
   "execution_count": 38,
   "metadata": {},
   "outputs": [],
   "source": [
    "from sklearn import svm,datasets\n",
    "from sklearn.metrics import roc_curve,auc\n",
    "from sklearn.model_selection import train_test_split\n",
    "from sklearn.preprocessing import label_binarize\n",
    "from sklearn.multiclass import OneVsRestClassifier\n",
    "from scipy import interp\n",
    "from sklearn.metrics import roc_auc_score"
   ]
  },
  {
   "cell_type": "code",
   "execution_count": 39,
   "metadata": {},
   "outputs": [
    {
     "name": "stdout",
     "output_type": "stream",
     "text": [
      "13/13 [==============================] - 6s 458ms/step - loss: 0.4273 - accuracy: 0.8197\n"
     ]
    },
    {
     "data": {
      "text/plain": [
       "[0.427310973405838, 0.8196721076965332]"
      ]
     },
     "execution_count": 39,
     "metadata": {},
     "output_type": "execute_result"
    }
   ],
   "source": [
    "model.evaluate(validation_generator)"
   ]
  },
  {
   "cell_type": "code",
   "execution_count": 40,
   "metadata": {},
   "outputs": [
    {
     "name": "stdout",
     "output_type": "stream",
     "text": [
      "13/13 [==============================] - 6s 458ms/step\n"
     ]
    }
   ],
   "source": [
    "STEP_SIXE_TEST = validation_generator.n / validation_generator.batch_size\n",
    "validation_generator.reset()\n",
    "preds = model.predict(validation_generator,verbose=1)"
   ]
  },
  {
   "cell_type": "code",
   "execution_count": 41,
   "metadata": {},
   "outputs": [],
   "source": [
    "fpr,tpr,_=roc_curve(validation_generator.classes,preds)"
   ]
  },
  {
   "cell_type": "code",
   "execution_count": 42,
   "metadata": {},
   "outputs": [],
   "source": [
    "fpr,tpr,_=roc_curve(validation_generator.classes,preds)"
   ]
  },
  {
   "cell_type": "code",
   "execution_count": 43,
   "metadata": {},
   "outputs": [],
   "source": [
    "roc_auc=auc(fpr,tpr)"
   ]
  },
  {
   "cell_type": "code",
   "execution_count": 44,
   "metadata": {},
   "outputs": [
    {
     "data": {
      "image/png": "[encoded data removed]",
      "text/plain": [
       "<Figure size 432x288 with 1 Axes>"
      ]
     },
     "metadata": {
      "needs_background": "light"
     },
     "output_type": "display_data"
    }
   ],
   "source": [
    "import matplotlib.pyplot as plt\n",
    "\n",
    "plt.figure()\n",
    "lw=2\n",
    "plt.plot(fpr,tpr,color='darkorange',\n",
    "         lw=lw,label='ROC Curve(area = %0.2f)' %roc_auc)\n",
    "plt.plot([0,1],[0,1],color='navy',lw=lw,linestyle='--')\n",
    "plt.xlim([0.0,1.0])\n",
    "plt.ylim([0.0,1.05])\n",
    "plt.xlabel('False Positive Rate')\n",
    "plt.ylabel('True Positive Rate')\n",
    "plt.title('Receiver Operating Characteristic')\n",
    "plt.legend(loc=\"lower right\")\n",
    "plt.show()"
   ]
  },
  {
   "cell_type": "code",
   "execution_count": 45,
   "metadata": {},
   "outputs": [],
   "source": [
    "model.save('model_1.h5')"
   ]
  },
  {
   "cell_type": "code",
   "execution_count": null,
   "metadata": {},
   "outputs": [],
   "source": [
    "%matplotlib inline\n",
    "\n",
    "\n",
    "import matplotlib.pyplot as plt\n",
    "import numpy as np\n",
    "import files\n",
    "from keras.preprocessing import image\n",
    "\n",
    "upload = files.upload()\n",
    "\n",
    "for fn in upload.keys():\n",
    "\n",
    "  path = '/content/'+fn\n",
    "  img = image.load_img(path,target_size=(150,150))\n",
    "  x=image.img_to_array(img)\n",
    "  plt.imshow(x/255.)\n",
    "  x = np.expand_dims(x,axis=0)\n",
    "  images = np.vstack([x])\n",
    "  classes = model.predict(images,batch_size =10)\n",
    "  print(classes[0])\n",
    "  if classes[0]<0.5:\n",
    "    print(fn+\"no\")\n",
    "  else:\n",
    "    print(fn+\"yes\")"
   ]
  }
 ],
 "metadata": {
  "interpreter": {
   "hash": "7d04c2ccdc77879c44c0e38a475c5c944666b751d27f26244a0b0bd35fcecd56"
  },
  "kernelspec": {
   "display_name": "Python 3.10.3 64-bit",
   "language": "python",
   "name": "python3"
  },
  "language_info": {
   "codemirror_mode": {
    "name": "ipython",
    "version": 3
   },
   "file_extension": ".py",
   "mimetype": "text/x-python",
   "name": "python",
   "nbconvert_exporter": "python",
   "pygments_lexer": "ipython3",
   "version": "3.10.3"
  },
  "orig_nbformat": 4
 },
 "nbformat": 4,
 "nbformat_minor": 2
}
